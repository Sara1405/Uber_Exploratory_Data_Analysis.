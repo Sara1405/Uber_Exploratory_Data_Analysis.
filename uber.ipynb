{
 "cells": [
  {
   "cell_type": "markdown",
   "id": "53cbce03",
   "metadata": {},
   "source": [
    "UBER Analysis Project"
   ]
  },
  {
   "cell_type": "code",
   "execution_count": 1,
   "id": "5f83e00d",
   "metadata": {},
   "outputs": [],
   "source": [
    "# Importing neccessary libraries\n",
    "\n",
    "import pandas as pd\n",
    "import matplotlib.pyplot as plt\n",
    "import seaborn as sns"
   ]
  },
  {
   "cell_type": "code",
   "execution_count": 2,
   "id": "061ed225",
   "metadata": {},
   "outputs": [],
   "source": [
    "# Load Dataset\n",
    "df = pd.read_csv(r\"C:\\Users\\sara7\\Downloads\\My_Files\\Python_Jupyter Project\\Uber_Python EDA\\UberDataset.csv\")"
   ]
  },
  {
   "cell_type": "markdown",
   "id": "1e70a54f",
   "metadata": {},
   "source": [
    "Data Cleaning"
   ]
  },
  {
   "cell_type": "code",
   "execution_count": 19,
   "id": "797ee033",
   "metadata": {},
   "outputs": [
    {
     "data": {
      "text/html": [
       "<div>\n",
       "<style scoped>\n",
       "    .dataframe tbody tr th:only-of-type {\n",
       "        vertical-align: middle;\n",
       "    }\n",
       "\n",
       "    .dataframe tbody tr th {\n",
       "        vertical-align: top;\n",
       "    }\n",
       "\n",
       "    .dataframe thead th {\n",
       "        text-align: right;\n",
       "    }\n",
       "</style>\n",
       "<table border=\"1\" class=\"dataframe\">\n",
       "  <thead>\n",
       "    <tr style=\"text-align: right;\">\n",
       "      <th></th>\n",
       "      <th>start_date</th>\n",
       "      <th>end_date</th>\n",
       "      <th>category</th>\n",
       "      <th>start</th>\n",
       "      <th>stop</th>\n",
       "      <th>miles</th>\n",
       "      <th>purpose</th>\n",
       "    </tr>\n",
       "  </thead>\n",
       "  <tbody>\n",
       "    <tr>\n",
       "      <th>0</th>\n",
       "      <td>01-01-2016 21:11</td>\n",
       "      <td>01-01-2016 21:17</td>\n",
       "      <td>Business</td>\n",
       "      <td>Fort Pierce</td>\n",
       "      <td>Fort Pierce</td>\n",
       "      <td>5.1</td>\n",
       "      <td>Meal/Entertain</td>\n",
       "    </tr>\n",
       "    <tr>\n",
       "      <th>2</th>\n",
       "      <td>01-02-2016 20:25</td>\n",
       "      <td>01-02-2016 20:38</td>\n",
       "      <td>Business</td>\n",
       "      <td>Fort Pierce</td>\n",
       "      <td>Fort Pierce</td>\n",
       "      <td>4.8</td>\n",
       "      <td>Errand/Supplies</td>\n",
       "    </tr>\n",
       "  </tbody>\n",
       "</table>\n",
       "</div>"
      ],
      "text/plain": [
       "         start_date          end_date  category        start         stop  \\\n",
       "0  01-01-2016 21:11  01-01-2016 21:17  Business  Fort Pierce  Fort Pierce   \n",
       "2  01-02-2016 20:25  01-02-2016 20:38  Business  Fort Pierce  Fort Pierce   \n",
       "\n",
       "   miles          purpose  \n",
       "0    5.1   Meal/Entertain  \n",
       "2    4.8  Errand/Supplies  "
      ]
     },
     "execution_count": 19,
     "metadata": {},
     "output_type": "execute_result"
    }
   ],
   "source": [
    "df.head(2)"
   ]
  },
  {
   "cell_type": "code",
   "execution_count": 18,
   "id": "c3fc30ab",
   "metadata": {},
   "outputs": [
    {
     "data": {
      "text/html": [
       "<div>\n",
       "<style scoped>\n",
       "    .dataframe tbody tr th:only-of-type {\n",
       "        vertical-align: middle;\n",
       "    }\n",
       "\n",
       "    .dataframe tbody tr th {\n",
       "        vertical-align: top;\n",
       "    }\n",
       "\n",
       "    .dataframe thead th {\n",
       "        text-align: right;\n",
       "    }\n",
       "</style>\n",
       "<table border=\"1\" class=\"dataframe\">\n",
       "  <thead>\n",
       "    <tr style=\"text-align: right;\">\n",
       "      <th></th>\n",
       "      <th>start_date</th>\n",
       "      <th>end_date</th>\n",
       "      <th>category</th>\n",
       "      <th>start</th>\n",
       "      <th>stop</th>\n",
       "      <th>miles</th>\n",
       "      <th>purpose</th>\n",
       "    </tr>\n",
       "  </thead>\n",
       "  <tbody>\n",
       "    <tr>\n",
       "      <th>1153</th>\n",
       "      <td>12/31/2016 21:32</td>\n",
       "      <td>12/31/2016 21:50</td>\n",
       "      <td>Business</td>\n",
       "      <td>Katunayake</td>\n",
       "      <td>Gampaha</td>\n",
       "      <td>6.4</td>\n",
       "      <td>Temporary Site</td>\n",
       "    </tr>\n",
       "    <tr>\n",
       "      <th>1154</th>\n",
       "      <td>12/31/2016 22:08</td>\n",
       "      <td>12/31/2016 23:51</td>\n",
       "      <td>Business</td>\n",
       "      <td>Gampaha</td>\n",
       "      <td>Ilukwatta</td>\n",
       "      <td>48.2</td>\n",
       "      <td>Temporary Site</td>\n",
       "    </tr>\n",
       "  </tbody>\n",
       "</table>\n",
       "</div>"
      ],
      "text/plain": [
       "            start_date          end_date  category       start       stop  \\\n",
       "1153  12/31/2016 21:32  12/31/2016 21:50  Business  Katunayake    Gampaha   \n",
       "1154  12/31/2016 22:08  12/31/2016 23:51  Business     Gampaha  Ilukwatta   \n",
       "\n",
       "      miles         purpose  \n",
       "1153    6.4  Temporary Site  \n",
       "1154   48.2  Temporary Site  "
      ]
     },
     "execution_count": 18,
     "metadata": {},
     "output_type": "execute_result"
    }
   ],
   "source": [
    "df.tail(2)"
   ]
  },
  {
   "cell_type": "code",
   "execution_count": 17,
   "id": "f45d42a1",
   "metadata": {},
   "outputs": [
    {
     "name": "stdout",
     "output_type": "stream",
     "text": [
      "<class 'pandas.core.frame.DataFrame'>\n",
      "Index: 653 entries, 0 to 1154\n",
      "Data columns (total 7 columns):\n",
      " #   Column      Non-Null Count  Dtype  \n",
      "---  ------      --------------  -----  \n",
      " 0   start_date  653 non-null    object \n",
      " 1   end_date    653 non-null    object \n",
      " 2   category    653 non-null    object \n",
      " 3   start       653 non-null    object \n",
      " 4   stop        653 non-null    object \n",
      " 5   miles       653 non-null    float64\n",
      " 6   purpose     653 non-null    object \n",
      "dtypes: float64(1), object(6)\n",
      "memory usage: 40.8+ KB\n"
     ]
    }
   ],
   "source": [
    "df.info()"
   ]
  },
  {
   "cell_type": "code",
   "execution_count": 6,
   "id": "0174293b",
   "metadata": {},
   "outputs": [
    {
     "data": {
      "text/plain": [
       "1156"
      ]
     },
     "execution_count": 6,
     "metadata": {},
     "output_type": "execute_result"
    }
   ],
   "source": [
    "df.shape[0]"
   ]
  },
  {
   "cell_type": "code",
   "execution_count": 16,
   "id": "3b370191",
   "metadata": {},
   "outputs": [
    {
     "data": {
      "text/plain": [
       "start_date    0.0\n",
       "end_date      0.0\n",
       "category      0.0\n",
       "start         0.0\n",
       "stop          0.0\n",
       "miles         0.0\n",
       "purpose       0.0\n",
       "dtype: float64"
      ]
     },
     "execution_count": 16,
     "metadata": {},
     "output_type": "execute_result"
    }
   ],
   "source": [
    "# Checking Null values in Percentage for better clearification\n",
    "(df.isnull().sum()/df.shape[0])*100"
   ]
  },
  {
   "cell_type": "code",
   "execution_count": 8,
   "id": "2f56c0a1",
   "metadata": {},
   "outputs": [],
   "source": [
    "# remove Null values\n",
    "df.dropna(inplace=True)"
   ]
  },
  {
   "cell_type": "code",
   "execution_count": 9,
   "id": "64da9724",
   "metadata": {},
   "outputs": [
    {
     "data": {
      "text/html": [
       "<div>\n",
       "<style scoped>\n",
       "    .dataframe tbody tr th:only-of-type {\n",
       "        vertical-align: middle;\n",
       "    }\n",
       "\n",
       "    .dataframe tbody tr th {\n",
       "        vertical-align: top;\n",
       "    }\n",
       "\n",
       "    .dataframe thead th {\n",
       "        text-align: right;\n",
       "    }\n",
       "</style>\n",
       "<table border=\"1\" class=\"dataframe\">\n",
       "  <thead>\n",
       "    <tr style=\"text-align: right;\">\n",
       "      <th></th>\n",
       "      <th>MILES</th>\n",
       "    </tr>\n",
       "  </thead>\n",
       "  <tbody>\n",
       "    <tr>\n",
       "      <th>count</th>\n",
       "      <td>653.000000</td>\n",
       "    </tr>\n",
       "    <tr>\n",
       "      <th>mean</th>\n",
       "      <td>11.196325</td>\n",
       "    </tr>\n",
       "    <tr>\n",
       "      <th>std</th>\n",
       "      <td>22.986429</td>\n",
       "    </tr>\n",
       "    <tr>\n",
       "      <th>min</th>\n",
       "      <td>0.500000</td>\n",
       "    </tr>\n",
       "    <tr>\n",
       "      <th>25%</th>\n",
       "      <td>3.200000</td>\n",
       "    </tr>\n",
       "    <tr>\n",
       "      <th>50%</th>\n",
       "      <td>6.400000</td>\n",
       "    </tr>\n",
       "    <tr>\n",
       "      <th>75%</th>\n",
       "      <td>10.400000</td>\n",
       "    </tr>\n",
       "    <tr>\n",
       "      <th>max</th>\n",
       "      <td>310.300000</td>\n",
       "    </tr>\n",
       "  </tbody>\n",
       "</table>\n",
       "</div>"
      ],
      "text/plain": [
       "            MILES\n",
       "count  653.000000\n",
       "mean    11.196325\n",
       "std     22.986429\n",
       "min      0.500000\n",
       "25%      3.200000\n",
       "50%      6.400000\n",
       "75%     10.400000\n",
       "max    310.300000"
      ]
     },
     "execution_count": 9,
     "metadata": {},
     "output_type": "execute_result"
    }
   ],
   "source": [
    "# Basic Statistical Summary\n",
    "df.describe()"
   ]
  },
  {
   "cell_type": "code",
   "execution_count": 10,
   "id": "516ff813",
   "metadata": {},
   "outputs": [
    {
     "name": "stdout",
     "output_type": "stream",
     "text": [
      "         start_date          end_date  category            start  \\\n",
      "0  01-01-2016 21:11  01-01-2016 21:17  Business      Fort Pierce   \n",
      "2  01-02-2016 20:25  01-02-2016 20:38  Business      Fort Pierce   \n",
      "3  01-05-2016 17:31  01-05-2016 17:45  Business      Fort Pierce   \n",
      "4  01-06-2016 14:42  01-06-2016 15:49  Business      Fort Pierce   \n",
      "5  01-06-2016 17:15  01-06-2016 17:19  Business  West Palm Beach   \n",
      "\n",
      "              stop  miles          purpose  \n",
      "0      Fort Pierce    5.1   Meal/Entertain  \n",
      "2      Fort Pierce    4.8  Errand/Supplies  \n",
      "3      Fort Pierce    4.7          Meeting  \n",
      "4  West Palm Beach   63.7   Customer Visit  \n",
      "5  West Palm Beach    4.3   Meal/Entertain  \n"
     ]
    }
   ],
   "source": [
    "# Renaming columns for better clarity\n",
    "df.columns = df.columns.str.strip().str.lower().str.replace(' ', '_')\n",
    "print(df.head())\n"
   ]
  },
  {
   "cell_type": "markdown",
   "id": "9c898908",
   "metadata": {},
   "source": [
    "What’s the total number of trips?"
   ]
  },
  {
   "cell_type": "code",
   "execution_count": 11,
   "id": "474706e6",
   "metadata": {},
   "outputs": [
    {
     "name": "stdout",
     "output_type": "stream",
     "text": [
      "Total Trips: 653\n"
     ]
    }
   ],
   "source": [
    "total_trips = df.shape[0]\n",
    "print(\"Total Trips:\", total_trips)"
   ]
  },
  {
   "cell_type": "markdown",
   "id": "c4b5d50e",
   "metadata": {},
   "source": [
    "What’s the average distance (miles) per trip?"
   ]
  },
  {
   "cell_type": "code",
   "execution_count": 12,
   "id": "adfa74d2",
   "metadata": {},
   "outputs": [
    {
     "name": "stdout",
     "output_type": "stream",
     "text": [
      "Average Miles per Trip: 11.2\n"
     ]
    }
   ],
   "source": [
    "avg_miles = df['miles'].mean()\n",
    "print(\"Average Miles per Trip:\", round(avg_miles, 2))"
   ]
  },
  {
   "cell_type": "markdown",
   "id": "e168cdf7",
   "metadata": {},
   "source": [
    "What’s the total distance traveled for Business vs Personal rides?"
   ]
  },
  {
   "cell_type": "code",
   "execution_count": 13,
   "id": "c66ce3e6",
   "metadata": {},
   "outputs": [
    {
     "name": "stdout",
     "output_type": "stream",
     "text": [
      "category\n",
      "Business    7097.7\n",
      "Personal     213.5\n",
      "Name: miles, dtype: float64\n"
     ]
    },
    {
     "data": {
      "image/png": "[encoded data removed]",
      "text/plain": [
       "<Figure size 640x480 with 1 Axes>"
      ]
     },
     "metadata": {},
     "output_type": "display_data"
    }
   ],
   "source": [
    "distance_by_category = df.groupby('category')['miles'].sum()\n",
    "print(distance_by_category)\n",
    "\n",
    "# Visualization of Trips by Category\n",
    "distance_by_category.plot(kind='bar', color='skyblue')\n",
    "figsize = (6, 6)\n",
    "plt.title('Total Distance by Trip Category', fontweight='bold')\n",
    "plt.xlabel('Category')  \n",
    "plt.ylabel('Total Miles')\n",
    "plt.show()"
   ]
  },
  {
   "cell_type": "markdown",
   "id": "8af09d1f",
   "metadata": {},
   "source": [
    "Which purpose has the highest number of trips?"
   ]
  },
  {
   "cell_type": "code",
   "execution_count": 14,
   "id": "dc033c66",
   "metadata": {},
   "outputs": [
    {
     "name": "stdout",
     "output_type": "stream",
     "text": [
      "purpose\n",
      "Meeting            187\n",
      "Meal/Entertain     160\n",
      "Errand/Supplies    128\n",
      "Customer Visit     101\n",
      "Temporary Site      50\n",
      "Name: count, dtype: int64\n"
     ]
    },
    {
     "data": {
      "image/png": "[encoded data removed]",
      "text/plain": [
       "<Figure size 640x480 with 1 Axes>"
      ]
     },
     "metadata": {},
     "output_type": "display_data"
    }
   ],
   "source": [
    "top_purpose = df['purpose'].value_counts().head(5)\n",
    "print(top_purpose)\n",
    "\n",
    "top_purpose.plot(kind='bar', color='lightgreen')\n",
    "plt.title('Top 5 Trip Purposes', fontweight='bold')\n",
    "plt.xlabel('Purpose')\n",
    "plt.ylabel('Number of Trips')\n",
    "plt.show()"
   ]
  },
  {
   "cell_type": "markdown",
   "id": "b3ddc68c",
   "metadata": {},
   "source": [
    "What are the most common start and stop locations?"
   ]
  },
  {
   "cell_type": "code",
   "execution_count": 15,
   "id": "5c86eca6",
   "metadata": {},
   "outputs": [
    {
     "name": "stdout",
     "output_type": "stream",
     "text": [
      "Top Start Locations:\n",
      " start\n",
      "Cary                161\n",
      "Unknown Location     55\n",
      "Morrisville          54\n",
      "Whitebridge          36\n",
      "Durham               30\n",
      "Name: count, dtype: int64\n",
      "\n",
      "Top Stop Locations:\n",
      " stop\n",
      "Cary                155\n",
      "Morrisville          60\n",
      "Unknown Location     56\n",
      "Whitebridge          37\n",
      "Durham               30\n",
      "Name: count, dtype: int64\n"
     ]
    }
   ],
   "source": [
    "top_starts = df['start'].value_counts().head(5)\n",
    "top_stops = df['stop'].value_counts().head(5)\n",
    "\n",
    "print(\"Top Start Locations:\\n\", top_starts)\n",
    "print(\"\\nTop Stop Locations:\\n\", top_stops)"
   ]
  }
 ],
 "metadata": {
  "kernelspec": {
   "display_name": "base",
   "language": "python",
   "name": "python3"
  },
  "language_info": {
   "codemirror_mode": {
    "name": "ipython",
    "version": 3
   },
   "file_extension": ".py",
   "mimetype": "text/x-python",
   "name": "python",
   "nbconvert_exporter": "python",
   "pygments_lexer": "ipython3",
   "version": "3.13.5"
  }
 },
 "nbformat": 4,
 "nbformat_minor": 5
}
